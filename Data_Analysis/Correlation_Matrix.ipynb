{
 "cells": [
  {
   "cell_type": "markdown",
   "id": "9a25a83b-1e61-4482-85f4-cfb46886d87b",
   "metadata": {},
   "source": [
    "## Correlation matrix\n",
    "\n",
    "\n",
    "\n",
    "##### What Is a Correlation Matrix?\n",
    "A correlation matrix shows the pairwise correlation coefficients between multiple variables, in this case, the daily returns of different stocks.\\\n",
    "Each value in the matrix ranges from -1 to +1:\\\n",
    "\n",
    "+1: Perfect positive correlation (stocks move in the same direction)\\\n",
    "0: No correlation (movements are unrelated)\\\n",
    "-1: Perfect negative correlation (stocks move in opposite directions)\\\n",
    "\n",
    "##### Analyze Correlation Among AMZN, AAPL, GOOGL, MSFT\n",
    "Amazon (AMZN)\\\n",
    "Apple (AAPL) \\\n",
    "Google (GOOGL)\\\n",
    "Microsoft (MSFT)\n",
    "\n",
    "#### Correlation matrix is crucial for:\n",
    "- Building diversified portfolios\n",
    "- Managing systemic risk\n",
    "- Designing quantitative trading strategies\n"
   ]
  },
  {
   "cell_type": "code",
   "execution_count": null,
   "id": "418ab6a4-13ca-473e-b568-e0158422382e",
   "metadata": {},
   "outputs": [
    {
     "name": "stdout",
     "output_type": "stream",
     "text": [
      "YF.download() has changed argument auto_adjust default to True\n"
     ]
    }
   ],
   "source": [
    "import yfinance as yf\n",
    "import pandas as pd\n",
    "import seaborn as sns\n",
    "import matplotlib.pyplot as plt\n",
    "\n",
    "# Download historical price data\n",
    "tickers = ['AMZN', 'AAPL', 'GOOGL', 'MSFT']\n",
    "data = yf.download(tickers, start=\"2020-01-01\", end=\"2025-06-01\")['Close']\n",
    "\n",
    "# Calculate daily returns\n",
    "returns = data.pct_change().dropna()\n",
    "\n",
    "#  Compute the correlation matrix\n",
    "correlation_matrix = returns.corr()\n",
    "\n",
    "#  Plot using a heatmap\n",
    "plt.figure(figsize=(8, 6))\n",
    "sns.heatmap(correlation_matrix, annot=True, cmap='coolwarm', center=0, \n",
    "            square=True, fmt='.2f', cbar_kws={\"shrink\": .8})\n",
    "plt.title('Correlation Matrix of Stocks (AMZN, AAPL, GOOGL, MSFT)')\n",
    "plt.tight_layout()\n",
    "plt.show()"
   ]
  },
  {
   "cell_type": "code",
   "execution_count": null,
   "id": "8de4e7bc-10a8-434e-9f03-7f4fd6343696",
   "metadata": {},
   "outputs": [],
   "source": []
  }
 ],
 "metadata": {
  "kernelspec": {
   "display_name": "Python 3 (ipykernel)",
   "language": "python",
   "name": "python3"
  },
  "language_info": {
   "codemirror_mode": {
    "name": "ipython",
    "version": 3
   },
   "file_extension": ".py",
   "mimetype": "text/x-python",
   "name": "python",
   "nbconvert_exporter": "python",
   "pygments_lexer": "ipython3",
   "version": "3.12.3"
  }
 },
 "nbformat": 4,
 "nbformat_minor": 5
}
